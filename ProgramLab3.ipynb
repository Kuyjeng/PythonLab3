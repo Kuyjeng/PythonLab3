{
  "nbformat": 4,
  "nbformat_minor": 0,
  "metadata": {
    "colab": {
      "provenance": [],
      "include_colab_link": true
    },
    "kernelspec": {
      "name": "python3",
      "display_name": "Python 3"
    },
    "language_info": {
      "name": "python"
    }
  },
  "cells": [
    {
      "cell_type": "markdown",
      "metadata": {
        "id": "view-in-github",
        "colab_type": "text"
      },
      "source": [
        "<a href=\"https://colab.research.google.com/github/Kuyjeng/PythonLab3/blob/main/ProgramLab3.ipynb\" target=\"_parent\"><img src=\"https://colab.research.google.com/assets/colab-badge.svg\" alt=\"Open In Colab\"/></a>"
      ]
    },
    {
      "cell_type": "markdown",
      "source": [
        "# Exercise 3\n",
        "\n",
        "3.1 จากข้อมูลใน List ให้หาผลบวกเฉพาะตัวเลขคู่ โดยใช้ While Loop\n",
        "\n",
        "list1 = [1, 2, 3, 4, 5, 6, 7, 8, 9, 11, 13]\n",
        "\n"
      ],
      "metadata": {
        "id": "8LZVzcOUVMor"
      }
    },
    {
      "cell_type": "code",
      "execution_count": null,
      "metadata": {
        "id": "2cTrxjMXUE2n",
        "outputId": "7a4ff85e-0753-4ce1-910d-9817e8dd827d",
        "colab": {
          "base_uri": "https://localhost:8080/"
        }
      },
      "outputs": [
        {
          "output_type": "stream",
          "name": "stdout",
          "text": [
            "2\n",
            "4\n",
            "6\n",
            "8\n"
          ]
        }
      ],
      "source": [
        "list1 = [1, 2, 3, 4, 5, 6, 7, 8, 9, 11, 13]\n",
        "\n",
        "for i in list1:\n",
        "  if i%2==0:\n",
        "    print(i)"
      ]
    },
    {
      "cell_type": "markdown",
      "source": [
        "3.2 จากข้อมูลใน List ให้หาตัวเลขที่มีค่ามากที่สุดเป็นอันดับ 2 ใน List โดยใช้ While Loop\n",
        "\n",
        "list = [-5, 7, 10, 1, 2, 5, 8, 100]\n"
      ],
      "metadata": {
        "id": "uPvbrsO_Vimb"
      }
    },
    {
      "cell_type": "code",
      "source": [
        "list = [-5, 7, 10, 1, 2, 5, 8, 100]\n",
        "num1 = list[0]\n",
        "i = 1\n",
        "while i < len(list):\n",
        "  if list[i] > num1:\n",
        "    num1 = list[i]\n",
        "  i += 1\n",
        "\n",
        "num2 = list[0] if list[0] != num1 else list[1]\n",
        "i = 0\n",
        "while i < len(list):\n",
        "  if list[i] != num1 and list[i] > num2:\n",
        "    num2 = list[i]\n",
        "  i += 1\n",
        "print(num2)"
      ],
      "metadata": {
        "id": "iUeJ91zfVr1Z",
        "colab": {
          "base_uri": "https://localhost:8080/"
        },
        "outputId": "ef11d3e5-c3a1-4c46-add8-52de955f8814"
      },
      "execution_count": null,
      "outputs": [
        {
          "output_type": "stream",
          "name": "stdout",
          "text": [
            "10\n"
          ]
        }
      ]
    },
    {
      "cell_type": "markdown",
      "source": [
        "3.3 เขียนโปรแกรมรับค่า n แล้วคำนวณค่าต่อไปนี้\n",
        "\n",
        "$1/1^2 + 1/2^2 + 1/3^2 + 1/4^2 + 1/5^2 + … +  1/n^2$\n"
      ],
      "metadata": {
        "id": "udBZzWe9VsU7"
      }
    },
    {
      "cell_type": "code",
      "source": [
        "n = int(input(\"\"))\n",
        "sum = 0\n",
        "i = 1\n",
        "while i <=n:\n",
        "  sum += 1 / (i ** 2)\n",
        "  i += 1\n",
        "\n",
        "print(sum)"
      ],
      "metadata": {
        "id": "xtBw7zuxWEZ4",
        "colab": {
          "base_uri": "https://localhost:8080/"
        },
        "outputId": "4f140002-9a1a-43f0-8bc3-0cac613d7ff2"
      },
      "execution_count": null,
      "outputs": [
        {
          "output_type": "stream",
          "name": "stdout",
          "text": [
            "2\n",
            "1.25\n"
          ]
        }
      ]
    },
    {
      "cell_type": "markdown",
      "source": [
        "3.4 จากข้อมูลใน List ให้ตรวจสอบว่า ข้อมูลในลิสต์ s เรียงลำดับจากน้อยไปมากหรือไม่ ตอบเป็น True, False\n",
        "\n",
        "\t[1,2,3,4,5], [5,4,3,2,1]\n"
      ],
      "metadata": {
        "id": "o-6AnE5zWFJJ"
      }
    },
    {
      "cell_type": "code",
      "source": [
        "list = [[1, 2, 3, 4, 5],[5, 4, 3, 2, 1]]\n",
        "\n",
        "num = 0\n",
        "while num < len(list):\n",
        "  lst = list[num]\n",
        "  i = 0\n",
        "  while i < len(lst) - 1:\n",
        "    if lst[i] > lst[i + 1]:\n",
        "      print(\"false\")\n",
        "      break\n",
        "    i += 1\n",
        "  else:\n",
        "    print(\"true\")\n",
        "  num += 1\n",
        "\n"
      ],
      "metadata": {
        "id": "LYG2sGGgWNei",
        "colab": {
          "base_uri": "https://localhost:8080/"
        },
        "outputId": "279d8ab9-ebf6-40ac-a6e4-10f5ffb5cc99"
      },
      "execution_count": null,
      "outputs": [
        {
          "output_type": "stream",
          "name": "stdout",
          "text": [
            "true\n",
            "false\n"
          ]
        }
      ]
    },
    {
      "cell_type": "markdown",
      "source": [
        "3.5  ให้ x เป็นลิสต์เก็บคะแนน ต้องการปรับช่องที่มีค่าน้อยกว่า 30 ให้มีค่าเพิ่มอีก 10% แสดงผลลัพธ์ เป็น List\n",
        "\n",
        "\tx = [60, 70, 72, 65, 55, 43, 20, 90, 12]\n"
      ],
      "metadata": {
        "id": "Hv-fE32hWOBd"
      }
    },
    {
      "cell_type": "code",
      "source": [
        "x = [60, 70, 72, 65, 55, 43, 20, 90, 12]\n",
        "\n",
        "change = [0] * len(x)\n",
        "i = 0\n",
        "while i < len(x):\n",
        "  if x[i] < 30:\n",
        "    change[i] = x[i] * 1.10\n",
        "  else:\n",
        "    change[i] = x[i]\n",
        "  i += 1\n",
        "print(change)"
      ],
      "metadata": {
        "id": "BSFOJ_8GWTtL",
        "colab": {
          "base_uri": "https://localhost:8080/"
        },
        "outputId": "7a2c4c79-e688-4fff-91fd-6e3645f012e9"
      },
      "execution_count": null,
      "outputs": [
        {
          "output_type": "stream",
          "name": "stdout",
          "text": [
            "[60, 70, 72, 65, 55, 43, 22.0, 90, 13.200000000000001]\n"
          ]
        }
      ]
    },
    {
      "cell_type": "markdown",
      "source": [
        "3.6 ต้องการหาผลรวมของคะแนนที่เก็บในลิสต์ x โดยขอไม่รวมคะแนนที่น้อยสุดอันดับ 2\n",
        "\n",
        "\tx = [15, 80, 75, 62, 55, 43, 99, 67, 10]\n"
      ],
      "metadata": {
        "id": "IDw88nQbWUTw"
      }
    },
    {
      "cell_type": "code",
      "source": [
        "x = [15, 80, 75, 62, 55, 43, 99, 67, 10]\n",
        "\n",
        "min1 = None\n",
        "min2 = None\n",
        "\n",
        "for num in x:\n",
        "  if min1 is None or num < min1:\n",
        "    min2 = min1\n",
        "    min1 = num\n",
        "  elif min1 < num and (min2 is None or num < min2):\n",
        "    min2 = num\n",
        "\n",
        "total = 0\n",
        "i = 0\n",
        "while i < len(x):\n",
        "  if x[i] != min2:\n",
        "    total += x[i]\n",
        "  i += 1\n",
        "print(total)"
      ],
      "metadata": {
        "id": "Aool1F22WZKI",
        "colab": {
          "base_uri": "https://localhost:8080/"
        },
        "outputId": "59c506a2-bda7-4eca-fa3f-63bacea96808"
      },
      "execution_count": null,
      "outputs": [
        {
          "output_type": "stream",
          "name": "stdout",
          "text": [
            "491\n"
          ]
        }
      ]
    },
    {
      "cell_type": "markdown",
      "source": [
        "3.7 จากข้อมูลใน List ให้แสดง string ที่มีความยาวมากกว่า 2 และมีอักษรตัวแรกกับตัวสุดท้ายเหมือนกัน แสดงบรรทัดละ 1 ตัว\n",
        "\n",
        "\tlst = ['abba', 'a', 'aa', 'alcaza', 'python', 'stores', 'program', 'execute']\n"
      ],
      "metadata": {
        "id": "92oZ0IQdWZkF"
      }
    },
    {
      "cell_type": "code",
      "source": [
        "lst = ['abba', 'a', 'aa', 'alcaza', 'python', 'stores', 'program', 'execute']\n",
        "\n",
        "i = 0\n",
        "while i < len(lst):\n",
        "  string = lst[i]\n",
        "  if len(string) > 2 and string[0] == string[-1]:\n",
        "    print(string)\n",
        "  i += 1"
      ],
      "metadata": {
        "id": "i3vr0x1vWiHH",
        "colab": {
          "base_uri": "https://localhost:8080/"
        },
        "outputId": "0b2d96ae-cc95-409c-a613-2a928e161a3f"
      },
      "execution_count": null,
      "outputs": [
        {
          "output_type": "stream",
          "name": "stdout",
          "text": [
            "abba\n",
            "alcaza\n",
            "stores\n",
            "execute\n"
          ]
        }
      ]
    },
    {
      "cell_type": "markdown",
      "source": [
        "3.8 จากข้อมูลใน List ให้ลบข้อมูลที่มีซ้ำกันให้เหลือเพียงตัวเดียว ให้แสดงผลเป็น list เช่น\n",
        "\n",
        "[‘a’,’a’] => [‘a’]\n",
        "\n",
        "lst = ['a', 'a', 'b', 'a', 'b', 'c', 'd']\n"
      ],
      "metadata": {
        "id": "QicYHZbcWi8U"
      }
    },
    {
      "cell_type": "code",
      "source": [
        "lst = ['a', 'a', 'b', 'a', 'b', 'c', 'd']\n",
        "result = []\n",
        "i = 0\n",
        "while i < len(lst):\n",
        "  item = lst[i]\n",
        "  if item not in result:\n",
        "    result.append(item)\n",
        "  i += 1\n",
        "print(result)"
      ],
      "metadata": {
        "id": "saXxuMceWzd2",
        "colab": {
          "base_uri": "https://localhost:8080/"
        },
        "outputId": "2e41dc61-70f7-4d90-c5a7-400891fdd913"
      },
      "execution_count": null,
      "outputs": [
        {
          "output_type": "stream",
          "name": "stdout",
          "text": [
            "['a', 'b', 'c', 'd']\n"
          ]
        }
      ]
    },
    {
      "cell_type": "markdown",
      "source": [
        "3.9 จากข้อมูลใน List ให้แสดงว่าแต่ละข้อมูลใน List มีจำนวนเท่าไร คือ มีซ้ำกันกี่ตัวใน List  ให้แสดงบรรทัดละตัว เช่น\n",
        "\n",
        "\t[1, 2, 3, 4, 1, 2, 3, 1, 2, 1]\n",
        "\t1 = 4\n",
        "\t2 = 3\n",
        "\t3 = 2\n",
        "\t4 = 1\n",
        "  \n",
        "\tlst = [1,2,3,4,5,1,2,3,4,1,2,3,1,2,1]"
      ],
      "metadata": {
        "id": "Dl6OEM9nWz8s"
      }
    },
    {
      "cell_type": "code",
      "source": [
        "\n",
        "lst = [1, 2, 3, 4, 5, 1, 2, 3, 4, 1, 2, 3, 1, 2, 1]\n",
        "print(lst)\n",
        "\n",
        "i = 0\n",
        "while i < len(lst):\n",
        "  item = lst[i]\n",
        "  count = 0\n",
        "  j = 0\n",
        "  while j < len(lst):\n",
        "    if lst[j] == item:\n",
        "      count += 1\n",
        "    j += 1\n",
        "  print(f\"{item} = {count}\")\n",
        "  i += 1\n"
      ],
      "metadata": {
        "id": "Dm0dAivtW7vQ",
        "colab": {
          "base_uri": "https://localhost:8080/"
        },
        "outputId": "35e0ba38-ba2c-47d3-975a-86d8e052db65"
      },
      "execution_count": null,
      "outputs": [
        {
          "output_type": "stream",
          "name": "stdout",
          "text": [
            "[1, 2, 3, 4, 5, 1, 2, 3, 4, 1, 2, 3, 1, 2, 1]\n",
            "1 = 5\n",
            "2 = 4\n",
            "3 = 3\n",
            "4 = 2\n",
            "5 = 1\n",
            "1 = 5\n",
            "2 = 4\n",
            "3 = 3\n",
            "4 = 2\n",
            "1 = 5\n",
            "2 = 4\n",
            "3 = 3\n",
            "1 = 5\n",
            "2 = 4\n",
            "1 = 5\n"
          ]
        }
      ]
    },
    {
      "cell_type": "markdown",
      "source": [
        "1.\tเขียนโปรแกรมเพื่อหาผลบวกของอนุกรม 5+10+15+20+… จนถึง n เมื่อ n เป็นตัวเลขที่รับเข้ามาทางคีย์บอร์ด"
      ],
      "metadata": {
        "id": "GgbgWOV6W8Nn"
      }
    },
    {
      "cell_type": "code",
      "source": [
        "n = int(input(\"\"))\n",
        "\n",
        "sum = 0\n",
        "term = 5\n",
        "\n",
        "for i in range(1, n + 1):\n",
        "  print(term, end=\" \")\n",
        "  sum += term\n",
        "  term += 5\n",
        "print(\"\\n\",sum)"
      ],
      "metadata": {
        "id": "9cCHZsLhXGKm",
        "colab": {
          "base_uri": "https://localhost:8080/"
        },
        "outputId": "db1d7b4f-3373-4462-dcf8-1bdf3364c853"
      },
      "execution_count": null,
      "outputs": [
        {
          "output_type": "stream",
          "name": "stdout",
          "text": [
            "7\n",
            "5 10 15 20 25 30 35 \n",
            " 140\n"
          ]
        }
      ]
    },
    {
      "cell_type": "markdown",
      "source": [
        "2.\tจงเขียนโปรแกรมที่จะหาตัวเลขระหว่าง 2000-3200 ที่หารด้วย 7 ลงตัว แต่หารด้วย 5 ไม่ลงตัว\n",
        "การแสดงผลให้แสดงตัวเลขและคั่นด้วยเครื่องหมาย , ในบรรทัดเดียว\n",
        "\n",
        "2002,2009,2016,2023,2037,2044,2051,2058,2072,2079,2086,2093,2107,2114,2121,2128,2142,2149,2156,2163,2177,2184,2191,2198,2212,2219,2226,2233,2247,2254,2261,2268,2282,2289,2296,2303,2317,2324,2331,2338,2352,2359,2366,2373,2387,2394,2401,2408,2422,2429,2436,2443,2457,2464,2471,2478,2492,2499,2506,2513,2527,2534,2541,2548,2562,2569,2576,2583,2597,2604,2611,2618,2632,2639,2646,2653,2667,2674,2681,2688,2702,2709,2716,2723,2737,2744,2751,2758,2772,2779,2786,2793,2807,2814,2821,2828,2842,2849,2856,2863,2877,2884,2891,2898,2912,2919,2926,2933,2947,2954,2961,2968,2982,2989,2996,3003,3017,3024,3031,3038,3052,3059,3066,3073,3087,3094,3101,3108,3122,3129,3136,3143,3157,3164,3171,3178,3192,3199,"
      ],
      "metadata": {
        "id": "aujapFNTXGsV"
      }
    },
    {
      "cell_type": "code",
      "source": [
        "for num in range(2000, 3201):\n",
        "  if num % 7 == 0 and num % 5 != 0:\n",
        "    print(num, end=\", \")"
      ],
      "metadata": {
        "id": "L-kIF3-nXJqR",
        "colab": {
          "base_uri": "https://localhost:8080/"
        },
        "outputId": "e9b60aef-980a-4c73-cd51-2b08212993b4"
      },
      "execution_count": null,
      "outputs": [
        {
          "output_type": "stream",
          "name": "stdout",
          "text": [
            "2002, 2009, 2016, 2023, 2037, 2044, 2051, 2058, 2072, 2079, 2086, 2093, 2107, 2114, 2121, 2128, 2142, 2149, 2156, 2163, 2177, 2184, 2191, 2198, 2212, 2219, 2226, 2233, 2247, 2254, 2261, 2268, 2282, 2289, 2296, 2303, 2317, 2324, 2331, 2338, 2352, 2359, 2366, 2373, 2387, 2394, 2401, 2408, 2422, 2429, 2436, 2443, 2457, 2464, 2471, 2478, 2492, 2499, 2506, 2513, 2527, 2534, 2541, 2548, 2562, 2569, 2576, 2583, 2597, 2604, 2611, 2618, 2632, 2639, 2646, 2653, 2667, 2674, 2681, 2688, 2702, 2709, 2716, 2723, 2737, 2744, 2751, 2758, 2772, 2779, 2786, 2793, 2807, 2814, 2821, 2828, 2842, 2849, 2856, 2863, 2877, 2884, 2891, 2898, 2912, 2919, 2926, 2933, 2947, 2954, 2961, 2968, 2982, 2989, 2996, 3003, 3017, 3024, 3031, 3038, 3052, 3059, 3066, 3073, 3087, 3094, 3101, 3108, 3122, 3129, 3136, 3143, 3157, 3164, 3171, 3178, 3192, 3199, "
          ]
        }
      ]
    },
    {
      "cell_type": "markdown",
      "source": [
        "3.\tจากข้อมูลใน List ต้องการนับว่า มีข้อมูลกี่คู่ในลิสต์ที่ตัวทางซ้ายมีค่ามากกว่าตัวทางขวา (ไม่จำเป็นต้องอยู่ติดกัน)\n",
        "\n",
        "x = [1, 5, 4, 2, 1]"
      ],
      "metadata": {
        "id": "FCZpmtuFXKUl"
      }
    },
    {
      "cell_type": "code",
      "source": [
        "x = [1,5,4,2,1]\n",
        "total = 0\n",
        "li = len(x)\n",
        "for i in range(li):\n",
        "   for j in range(i + 1,li):\n",
        "    if x[i] > x[j]:\n",
        "     total += 1\n",
        "print(total)"
      ],
      "metadata": {
        "id": "VBgfWEXuXjQH",
        "outputId": "48ab9ef3-d8ab-497f-ae04-2d3dc3fb4791",
        "colab": {
          "base_uri": "https://localhost:8080/"
        }
      },
      "execution_count": null,
      "outputs": [
        {
          "output_type": "stream",
          "name": "stdout",
          "text": [
            "6\n"
          ]
        }
      ]
    },
    {
      "cell_type": "markdown",
      "source": [
        "4.\tให้ตรวจสอบว่า String ที่รับเข้ามาผ่านคีย์บอร์ด เป็นตัวอักษรพิมพ์เล็ก หรือตัวอักษรพิมพ์ใหญ่ อย่างละกี่ตัว ตอบ 2 บรรทัด พิมพ์เล็ก 1 บรรทัด พิมพ์ใหญ่ 1 บรรทัด\n",
        "\n",
        "klfjslkgD;FGK;LSDKdl;gfk;\n",
        "=> 18,3"
      ],
      "metadata": {
        "id": "UAEC1_jdXjya"
      }
    },
    {
      "cell_type": "code",
      "source": [
        "text = str(input(\"โปรดใส่ :\"))\n",
        "lower = 0\n",
        "upper = 0\n",
        "for char in text:\n",
        "  if char.islower():\n",
        "    lower += 1\n",
        "  elif char.isupper():\n",
        "    upper += 1\n",
        "print(lower, upper)"
      ],
      "metadata": {
        "id": "rSYwEhjEYY8N",
        "colab": {
          "base_uri": "https://localhost:8080/"
        },
        "outputId": "458f00db-04c5-4553-8626-048815f756df"
      },
      "execution_count": null,
      "outputs": [
        {
          "output_type": "stream",
          "name": "stdout",
          "text": [
            "โปรดใส่ :klfjslkgD;FGK;LSDKdl;gfk;\n",
            "13 8\n"
          ]
        }
      ]
    },
    {
      "cell_type": "markdown",
      "source": [
        "5.\tจงเขียนโปรแกรมที่หาตัวเลขระหว่าง 1000 และ 3000 ที่ทุกหลักเป็นเลขคู่ (รวม 1000 และ 3000) โดยแสดงผลในรูปแบบตัวเลขคั่นด้วย comma\n",
        "\n",
        "2000,2002,2004,2006,2008,2020,2022,2024,2026,2028,2040,2042,2044,2046,2048,2060,2062,2064,2066,2068,2080,2082,2084,2086,2088,2200,2202,2204,2206,2208,2220,2222,2224,2226,2228,2240,2242,2244,2246,2248,2260,2262,2264,2266,2268,2280,2282,2284,2286,2288,2400,2402,2404,2406,2408,2420,2422,2424,2426,2428,2440,2442,2444,2446,2448,2460,2462,2464,2466,2468,2480,2482,2484,2486,2488,2600,2602,2604,2606,2608,2620,2622,2624,2626,2628,2640,2642,2644,2646,2648,2660,2662,2664,2666,2668,2680,2682,2684,2686,2688,2800,2802,2804,2806,2808,2820,2822,2824,2826,2828,2840,2842,2844,2846,2848,2860,2862,2864,2866,2868,2880,2882,2884,2886,2888,"
      ],
      "metadata": {
        "id": "lBtvmw_sYYX_"
      }
    },
    {
      "cell_type": "code",
      "source": [
        "for num in range(1000, 3001):\n",
        "  if num % 2 == 0 and num // 10 % 2 == 0 and num // 100 % 2 == 0 and num // 1000 % 2 == 0:\n",
        "    print(num, end=\", \")"
      ],
      "metadata": {
        "id": "VvChTQMjYqYi",
        "colab": {
          "base_uri": "https://localhost:8080/"
        },
        "outputId": "c86de0cf-46b7-4994-c936-f6d5e526cbdd"
      },
      "execution_count": null,
      "outputs": [
        {
          "output_type": "stream",
          "name": "stdout",
          "text": [
            "2000, 2002, 2004, 2006, 2008, 2020, 2022, 2024, 2026, 2028, 2040, 2042, 2044, 2046, 2048, 2060, 2062, 2064, 2066, 2068, 2080, 2082, 2084, 2086, 2088, 2200, 2202, 2204, 2206, 2208, 2220, 2222, 2224, 2226, 2228, 2240, 2242, 2244, 2246, 2248, 2260, 2262, 2264, 2266, 2268, 2280, 2282, 2284, 2286, 2288, 2400, 2402, 2404, 2406, 2408, 2420, 2422, 2424, 2426, 2428, 2440, 2442, 2444, 2446, 2448, 2460, 2462, 2464, 2466, 2468, 2480, 2482, 2484, 2486, 2488, 2600, 2602, 2604, 2606, 2608, 2620, 2622, 2624, 2626, 2628, 2640, 2642, 2644, 2646, 2648, 2660, 2662, 2664, 2666, 2668, 2680, 2682, 2684, 2686, 2688, 2800, 2802, 2804, 2806, 2808, 2820, 2822, 2824, 2826, 2828, 2840, 2842, 2844, 2846, 2848, 2860, 2862, 2864, 2866, 2868, 2880, 2882, 2884, 2886, 2888, "
          ]
        }
      ]
    },
    {
      "cell_type": "markdown",
      "source": [
        "6.\tในคณิตศาสตร์ ตัวหารร่วมมาก หรือ ห.ร.ม. (greatest common divisor: gcd) ของจำนวนเต็มสองจำนวนซึ่งไม่เป็นศูนย์พร้อมกัน คือจำนวนเต็มที่มากที่สุดที่หารทั้งสองจำนวนลงตัว\n",
        "จงหา ห.ร.ม. ของจำนวนเต็ม 2 จำนวนที่กำหนดให้\n",
        "ข้อมูลนำเข้า\n",
        "บรรทัดแรกเพียงบรรทัดเดียว ประกอบไปด้วยจำนวนเต็มบวกสองจำนวน a และ b มีค่าไม่เกิน 9999\n",
        "ข้อมูลส่งออก\n",
        "ในบรรทัดแรกของข้อมูลส่งออก ให้แสดงค่า ห.ร.ม. ของ a และ b\n",
        "เช่น \tInput : 12 14\t\tOutput : 2\n",
        "\tInput : 7 3\t\tOutput : 1\n",
        "\n",
        "678\n",
        "345\n",
        "=> 3"
      ],
      "metadata": {
        "id": "6TCedRC8YqyU"
      }
    },
    {
      "cell_type": "code",
      "source": [
        "a, b = map(int, input(\"a, b:\").split())\n",
        "print((\"Input:\"), a, b)\n",
        "while b:\n",
        "  a, b = b, a % b\n",
        "print((\"Output:\"), a)"
      ],
      "metadata": {
        "id": "yrD4p2Q6Y6qr",
        "colab": {
          "base_uri": "https://localhost:8080/"
        },
        "outputId": "5a3e5c7b-387a-44f7-c5c3-a143356b124a"
      },
      "execution_count": null,
      "outputs": [
        {
          "output_type": "stream",
          "name": "stdout",
          "text": [
            "a, b:678 345\n",
            "Input: 678 345\n",
            "Output: 3\n"
          ]
        }
      ]
    },
    {
      "cell_type": "markdown",
      "source": [
        "7.\tจงเขียนโปรแกรมที่คำนวณค่าของ a+aa+aaa+aaaa เมื่อรับข้อมูลเป็นตัวเลข 1 หลัก\n",
        "\n",
        "Input : 9\n",
        "\n",
        "Output : 11106 (=9+99+999+9999)\n"
      ],
      "metadata": {
        "id": "DW9riUdiY7KK"
      }
    },
    {
      "cell_type": "code",
      "source": [
        "a = input(\"Input: \")\n",
        "total = 0\n",
        "if int(a) < 0 or int(a) > 9:\n",
        "   print(\"\")\n",
        "else:\n",
        "  for i in range(1,5):\n",
        "   num = int(str((a) * i ))\n",
        "   total += num\n",
        "  print(total)"
      ],
      "metadata": {
        "id": "iAZlPfC4Y-GG",
        "colab": {
          "base_uri": "https://localhost:8080/"
        },
        "outputId": "1d09bffa-7521-4e68-eb01-43dc2c36821a"
      },
      "execution_count": null,
      "outputs": [
        {
          "output_type": "stream",
          "name": "stdout",
          "text": [
            "Input: 9\n",
            "11106\n"
          ]
        }
      ]
    },
    {
      "cell_type": "markdown",
      "source": [
        "8.\tแปลงเลขโรมัน เป็นเลขอารบิก เช่น MMMDCCXXIV = 3724 (ค้นหาวิธีทางทางอินเตอร์เน็ต)\n"
      ],
      "metadata": {
        "id": "G3jPCyruZAZY"
      }
    },
    {
      "cell_type": "code",
      "source": [
        "roman_num = {'I': 1, 'V': 5, 'X': 10, 'L' : 50, 'C': 100, 'D': 500, 'M': 1000}\n",
        "n = input(\"\")\n",
        "num = 0\n",
        "prev = 0\n",
        "for i in range(len(n) - 1, -1, -1):\n",
        "  curr = roman_num[n[i]]\n",
        "  if curr >= prev:\n",
        "    num += curr\n",
        "    prev = curr\n",
        "print(n, \"=\", num)"
      ],
      "metadata": {
        "id": "6RBWGF4IZGnc",
        "colab": {
          "base_uri": "https://localhost:8080/"
        },
        "outputId": "d0872b61-2c5b-4632-c9d6-1f50c2aee4bf"
      },
      "execution_count": null,
      "outputs": [
        {
          "output_type": "stream",
          "name": "stdout",
          "text": [
            "MMMDCCXXIV\n",
            "MMMDCCXXIV = 3725\n"
          ]
        }
      ]
    },
    {
      "cell_type": "markdown",
      "source": [
        "9.\tอนุกรม Fibonacci คือ อนุกรมที่ตัวที่ 3 เป็นต้นไปเกิดจาก 2 ตัวหน้าบวกกัน จงเขียนโปรแกรมแสดงอนุกรม\n",
        "เช่น ตั้งแต่ 0-1000 คือ 0, 1, 1, 2, 3, 5, 8, 13, 21, 34, 55, 89, 144, 233, 377, 610, 987\n"
      ],
      "metadata": {
        "id": "SJBVkaFHZHKe"
      }
    },
    {
      "cell_type": "code",
      "source": [
        "a, b = 0, 1\n",
        "while a <= 1000:\n",
        "  print(a, end=\", \")\n",
        "  a, b = b, a + b"
      ],
      "metadata": {
        "id": "Vdtc9KqSZLls",
        "colab": {
          "base_uri": "https://localhost:8080/"
        },
        "outputId": "7a9fc727-ad76-448b-e0e0-cecb43abfc16"
      },
      "execution_count": null,
      "outputs": [
        {
          "output_type": "stream",
          "name": "stdout",
          "text": [
            "0, 1, 1, 2, 3, 5, 8, 13, 21, 34, 55, 89, 144, 233, 377, 610, 987, "
          ]
        }
      ]
    },
    {
      "cell_type": "markdown",
      "source": [
        "10.\tให้สร้างโปรแกรม True Love โดยรับชื่อภาษาอังกฤษของ 2 คน จากนั้นค้นหาว่ามีตัวอักษรอยู่ในคำว่า True และ Love รวมกันกี่ตัว จากนั้นนำมาต่อกันเป็น % ตามรูป (ไม่ต้องแสดงเครื่องหมาย %)"
      ],
      "metadata": {
        "id": "1ykDG1H4ZKd4"
      }
    },
    {
      "cell_type": "code",
      "source": [
        "name1 = input(\"First Name: \")\n",
        "name2 = input(\"Second Name: \")\n",
        "\n",
        "true_love = \"TrueLove\"\n",
        "count = 0\n",
        "for char in name1 + name2:\n",
        "  if char in true_love:\n",
        "    count += 1\n",
        "total_chars = len(name1) + len(name2)\n",
        "if total_chars > 0:\n",
        "  percentage = (count / total_chars) * 100\n",
        "else:\n",
        "  percentage = 0\n",
        "print(f\"{int(percentage)}\")"
      ],
      "metadata": {
        "id": "syOZPpj2ZPaA",
        "colab": {
          "base_uri": "https://localhost:8080/"
        },
        "outputId": "04de36df-9e3d-45e5-b499-93ed4914ba9c"
      },
      "execution_count": null,
      "outputs": [
        {
          "output_type": "stream",
          "name": "stdout",
          "text": [
            "First Name: Alice\n",
            "Second Name: Bob\n",
            "25\n"
          ]
        }
      ]
    }
  ]
}